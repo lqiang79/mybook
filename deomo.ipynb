{
  "nbformat": 4,
  "nbformat_minor": 0,
  "metadata": {
    "colab": {
      "name": "deomo.ipynb",
      "provenance": [],
      "include_colab_link": true
    },
    "kernelspec": {
      "name": "python3",
      "display_name": "Python 3"
    }
  },
  "cells": [
    {
      "cell_type": "markdown",
      "metadata": {
        "id": "view-in-github",
        "colab_type": "text"
      },
      "source": [
        "<a href=\"https://colab.research.google.com/github/lqiang79/mybook/blob/master/deomo.ipynb\" target=\"_parent\"><img src=\"https://colab.research.google.com/assets/colab-badge.svg\" alt=\"Open In Colab\"/></a>"
      ]
    },
    {
      "cell_type": "code",
      "metadata": {
        "id": "HFUrnjQLLYGm",
        "colab_type": "code",
        "colab": {}
      },
      "source": [
        "a_tuple = 1,3\n",
        "b_tuple = (1, 3)"
      ],
      "execution_count": 0,
      "outputs": []
    },
    {
      "cell_type": "code",
      "metadata": {
        "id": "sDNJnFIf5Tev",
        "colab_type": "code",
        "outputId": "8ae30da0-4b65-48c3-8a07-3b56abc34501",
        "colab": {
          "base_uri": "https://localhost:8080/",
          "height": 34
        }
      },
      "source": [
        "print(a_tuple == b_tuple)"
      ],
      "execution_count": 0,
      "outputs": [
        {
          "output_type": "stream",
          "text": [
            "True\n"
          ],
          "name": "stdout"
        }
      ]
    },
    {
      "cell_type": "code",
      "metadata": {
        "id": "z5-ZjvWd5Xaw",
        "colab_type": "code",
        "outputId": "076df8b6-7ada-4d15-d0fd-6c39c4fe77e6",
        "colab": {
          "base_uri": "https://localhost:8080/",
          "height": 34
        }
      },
      "source": [
        "print(a_tuple[1])"
      ],
      "execution_count": 0,
      "outputs": [
        {
          "output_type": "stream",
          "text": [
            "3\n"
          ],
          "name": "stdout"
        }
      ]
    },
    {
      "cell_type": "markdown",
      "metadata": {
        "id": "c8UwpiWObYmY",
        "colab_type": "text"
      },
      "source": [
        "this is a new W"
      ]
    },
    {
      "cell_type": "markdown",
      "metadata": {
        "id": "f9Dv56w-nH-3",
        "colab_type": "text"
      },
      "source": [
        ""
      ]
    }
  ]
}